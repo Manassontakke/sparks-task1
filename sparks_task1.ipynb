{
  "nbformat": 4,
  "nbformat_minor": 0,
  "metadata": {
    "colab": {
      "provenance": []
    },
    "kernelspec": {
      "name": "python3",
      "display_name": "Python 3"
    },
    "language_info": {
      "name": "python"
    }
  },
  "cells": [
    {
      "cell_type": "markdown",
      "source": [
        "![image.png](data:image/png;base64,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)"
      ],
      "metadata": {
        "id": "0uUR2rl2Zg_q"
      }
    },
    {
      "cell_type": "markdown",
      "source": [
        "\n",
        "\n",
        "\n",
        "*  The Sparks foundation\n",
        "*   Data Science and Business Analytics\n",
        "\n",
        "\n",
        "*  Task #1\n",
        "*  Prediction using Supervised ML\n",
        "\n",
        "\n"
      ],
      "metadata": {
        "id": "__0oa42cZPIK"
      }
    },
    {
      "cell_type": "markdown",
      "source": [
        "**Importing Necessary Libraries**"
      ],
      "metadata": {
        "id": "DsH_AP5SWsXn"
      }
    },
    {
      "cell_type": "code",
      "execution_count": 61,
      "metadata": {
        "id": "CIcR1r8lVdTa"
      },
      "outputs": [],
      "source": [
        "import numpy as np\n",
        "import pandas as pd\n",
        "import matplotlib.pyplot as plt\n",
        "import seaborn as sns\n",
        "import warnings\n",
        "warnings.filterwarnings(\"ignore\")"
      ]
    },
    {
      "cell_type": "markdown",
      "source": [
        "**Reading File**"
      ],
      "metadata": {
        "id": "IOIC5EbfWyaR"
      }
    },
    {
      "cell_type": "code",
      "source": [
        "df=pd.read_csv(\"/content/student_scores - student_scores.csv\")"
      ],
      "metadata": {
        "id": "9zi1gKIQDZfY"
      },
      "execution_count": 62,
      "outputs": []
    },
    {
      "cell_type": "code",
      "source": [
        "df"
      ],
      "metadata": {
        "colab": {
          "base_uri": "https://localhost:8080/",
          "height": 833
        },
        "id": "OfdcQ_kAEF2h",
        "outputId": "7249b3b1-4b41-4c2f-f2ab-1ae08d0841d3"
      },
      "execution_count": 63,
      "outputs": [
        {
          "output_type": "execute_result",
          "data": {
            "text/plain": [
              "    Hours  Scores\n",
              "0     2.5      21\n",
              "1     5.1      47\n",
              "2     3.2      27\n",
              "3     8.5      75\n",
              "4     3.5      30\n",
              "5     1.5      20\n",
              "6     9.2      88\n",
              "7     5.5      60\n",
              "8     8.3      81\n",
              "9     2.7      25\n",
              "10    7.7      85\n",
              "11    5.9      62\n",
              "12    4.5      41\n",
              "13    3.3      42\n",
              "14    1.1      17\n",
              "15    8.9      95\n",
              "16    2.5      30\n",
              "17    1.9      24\n",
              "18    6.1      67\n",
              "19    7.4      69\n",
              "20    2.7      30\n",
              "21    4.8      54\n",
              "22    3.8      35\n",
              "23    6.9      76\n",
              "24    7.8      86"
            ],
            "text/html": [
              "\n",
              "  <div id=\"df-ce6465d1-1527-4632-86bf-e9b132235ecc\">\n",
              "    <div class=\"colab-df-container\">\n",
              "      <div>\n",
              "<style scoped>\n",
              "    .dataframe tbody tr th:only-of-type {\n",
              "        vertical-align: middle;\n",
              "    }\n",
              "\n",
              "    .dataframe tbody tr th {\n",
              "        vertical-align: top;\n",
              "    }\n",
              "\n",
              "    .dataframe thead th {\n",
              "        text-align: right;\n",
              "    }\n",
              "</style>\n",
              "<table border=\"1\" class=\"dataframe\">\n",
              "  <thead>\n",
              "    <tr style=\"text-align: right;\">\n",
              "      <th></th>\n",
              "      <th>Hours</th>\n",
              "      <th>Scores</th>\n",
              "    </tr>\n",
              "  </thead>\n",
              "  <tbody>\n",
              "    <tr>\n",
              "      <th>0</th>\n",
              "      <td>2.5</td>\n",
              "      <td>21</td>\n",
              "    </tr>\n",
              "    <tr>\n",
              "      <th>1</th>\n",
              "      <td>5.1</td>\n",
              "      <td>47</td>\n",
              "    </tr>\n",
              "    <tr>\n",
              "      <th>2</th>\n",
              "      <td>3.2</td>\n",
              "      <td>27</td>\n",
              "    </tr>\n",
              "    <tr>\n",
              "      <th>3</th>\n",
              "      <td>8.5</td>\n",
              "      <td>75</td>\n",
              "    </tr>\n",
              "    <tr>\n",
              "      <th>4</th>\n",
              "      <td>3.5</td>\n",
              "      <td>30</td>\n",
              "    </tr>\n",
              "    <tr>\n",
              "      <th>5</th>\n",
              "      <td>1.5</td>\n",
              "      <td>20</td>\n",
              "    </tr>\n",
              "    <tr>\n",
              "      <th>6</th>\n",
              "      <td>9.2</td>\n",
              "      <td>88</td>\n",
              "    </tr>\n",
              "    <tr>\n",
              "      <th>7</th>\n",
              "      <td>5.5</td>\n",
              "      <td>60</td>\n",
              "    </tr>\n",
              "    <tr>\n",
              "      <th>8</th>\n",
              "      <td>8.3</td>\n",
              "      <td>81</td>\n",
              "    </tr>\n",
              "    <tr>\n",
              "      <th>9</th>\n",
              "      <td>2.7</td>\n",
              "      <td>25</td>\n",
              "    </tr>\n",
              "    <tr>\n",
              "      <th>10</th>\n",
              "      <td>7.7</td>\n",
              "      <td>85</td>\n",
              "    </tr>\n",
              "    <tr>\n",
              "      <th>11</th>\n",
              "      <td>5.9</td>\n",
              "      <td>62</td>\n",
              "    </tr>\n",
              "    <tr>\n",
              "      <th>12</th>\n",
              "      <td>4.5</td>\n",
              "      <td>41</td>\n",
              "    </tr>\n",
              "    <tr>\n",
              "      <th>13</th>\n",
              "      <td>3.3</td>\n",
              "      <td>42</td>\n",
              "    </tr>\n",
              "    <tr>\n",
              "      <th>14</th>\n",
              "      <td>1.1</td>\n",
              "      <td>17</td>\n",
              "    </tr>\n",
              "    <tr>\n",
              "      <th>15</th>\n",
              "      <td>8.9</td>\n",
              "      <td>95</td>\n",
              "    </tr>\n",
              "    <tr>\n",
              "      <th>16</th>\n",
              "      <td>2.5</td>\n",
              "      <td>30</td>\n",
              "    </tr>\n",
              "    <tr>\n",
              "      <th>17</th>\n",
              "      <td>1.9</td>\n",
              "      <td>24</td>\n",
              "    </tr>\n",
              "    <tr>\n",
              "      <th>18</th>\n",
              "      <td>6.1</td>\n",
              "      <td>67</td>\n",
              "    </tr>\n",
              "    <tr>\n",
              "      <th>19</th>\n",
              "      <td>7.4</td>\n",
              "      <td>69</td>\n",
              "    </tr>\n",
              "    <tr>\n",
              "      <th>20</th>\n",
              "      <td>2.7</td>\n",
              "      <td>30</td>\n",
              "    </tr>\n",
              "    <tr>\n",
              "      <th>21</th>\n",
              "      <td>4.8</td>\n",
              "      <td>54</td>\n",
              "    </tr>\n",
              "    <tr>\n",
              "      <th>22</th>\n",
              "      <td>3.8</td>\n",
              "      <td>35</td>\n",
              "    </tr>\n",
              "    <tr>\n",
              "      <th>23</th>\n",
              "      <td>6.9</td>\n",
              "      <td>76</td>\n",
              "    </tr>\n",
              "    <tr>\n",
              "      <th>24</th>\n",
              "      <td>7.8</td>\n",
              "      <td>86</td>\n",
              "    </tr>\n",
              "  </tbody>\n",
              "</table>\n",
              "</div>\n",
              "      <button class=\"colab-df-convert\" onclick=\"convertToInteractive('df-ce6465d1-1527-4632-86bf-e9b132235ecc')\"\n",
              "              title=\"Convert this dataframe to an interactive table.\"\n",
              "              style=\"display:none;\">\n",
              "        \n",
              "  <svg xmlns=\"http://www.w3.org/2000/svg\" height=\"24px\"viewBox=\"0 0 24 24\"\n",
              "       width=\"24px\">\n",
              "    <path d=\"M0 0h24v24H0V0z\" fill=\"none\"/>\n",
              "    <path d=\"M18.56 5.44l.94 2.06.94-2.06 2.06-.94-2.06-.94-.94-2.06-.94 2.06-2.06.94zm-11 1L8.5 8.5l.94-2.06 2.06-.94-2.06-.94L8.5 2.5l-.94 2.06-2.06.94zm10 10l.94 2.06.94-2.06 2.06-.94-2.06-.94-.94-2.06-.94 2.06-2.06.94z\"/><path d=\"M17.41 7.96l-1.37-1.37c-.4-.4-.92-.59-1.43-.59-.52 0-1.04.2-1.43.59L10.3 9.45l-7.72 7.72c-.78.78-.78 2.05 0 2.83L4 21.41c.39.39.9.59 1.41.59.51 0 1.02-.2 1.41-.59l7.78-7.78 2.81-2.81c.8-.78.8-2.07 0-2.86zM5.41 20L4 18.59l7.72-7.72 1.47 1.35L5.41 20z\"/>\n",
              "  </svg>\n",
              "      </button>\n",
              "      \n",
              "  <style>\n",
              "    .colab-df-container {\n",
              "      display:flex;\n",
              "      flex-wrap:wrap;\n",
              "      gap: 12px;\n",
              "    }\n",
              "\n",
              "    .colab-df-convert {\n",
              "      background-color: #E8F0FE;\n",
              "      border: none;\n",
              "      border-radius: 50%;\n",
              "      cursor: pointer;\n",
              "      display: none;\n",
              "      fill: #1967D2;\n",
              "      height: 32px;\n",
              "      padding: 0 0 0 0;\n",
              "      width: 32px;\n",
              "    }\n",
              "\n",
              "    .colab-df-convert:hover {\n",
              "      background-color: #E2EBFA;\n",
              "      box-shadow: 0px 1px 2px rgba(60, 64, 67, 0.3), 0px 1px 3px 1px rgba(60, 64, 67, 0.15);\n",
              "      fill: #174EA6;\n",
              "    }\n",
              "\n",
              "    [theme=dark] .colab-df-convert {\n",
              "      background-color: #3B4455;\n",
              "      fill: #D2E3FC;\n",
              "    }\n",
              "\n",
              "    [theme=dark] .colab-df-convert:hover {\n",
              "      background-color: #434B5C;\n",
              "      box-shadow: 0px 1px 3px 1px rgba(0, 0, 0, 0.15);\n",
              "      filter: drop-shadow(0px 1px 2px rgba(0, 0, 0, 0.3));\n",
              "      fill: #FFFFFF;\n",
              "    }\n",
              "  </style>\n",
              "\n",
              "      <script>\n",
              "        const buttonEl =\n",
              "          document.querySelector('#df-ce6465d1-1527-4632-86bf-e9b132235ecc button.colab-df-convert');\n",
              "        buttonEl.style.display =\n",
              "          google.colab.kernel.accessAllowed ? 'block' : 'none';\n",
              "\n",
              "        async function convertToInteractive(key) {\n",
              "          const element = document.querySelector('#df-ce6465d1-1527-4632-86bf-e9b132235ecc');\n",
              "          const dataTable =\n",
              "            await google.colab.kernel.invokeFunction('convertToInteractive',\n",
              "                                                     [key], {});\n",
              "          if (!dataTable) return;\n",
              "\n",
              "          const docLinkHtml = 'Like what you see? Visit the ' +\n",
              "            '<a target=\"_blank\" href=https://colab.research.google.com/notebooks/data_table.ipynb>data table notebook</a>'\n",
              "            + ' to learn more about interactive tables.';\n",
              "          element.innerHTML = '';\n",
              "          dataTable['output_type'] = 'display_data';\n",
              "          await google.colab.output.renderOutput(dataTable, element);\n",
              "          const docLink = document.createElement('div');\n",
              "          docLink.innerHTML = docLinkHtml;\n",
              "          element.appendChild(docLink);\n",
              "        }\n",
              "      </script>\n",
              "    </div>\n",
              "  </div>\n",
              "  "
            ]
          },
          "metadata": {},
          "execution_count": 63
        }
      ]
    },
    {
      "cell_type": "markdown",
      "source": [
        "**Basic Information about data**"
      ],
      "metadata": {
        "id": "Bxdn61qGW3H-"
      }
    },
    {
      "cell_type": "code",
      "source": [
        "df.info()"
      ],
      "metadata": {
        "colab": {
          "base_uri": "https://localhost:8080/"
        },
        "id": "-aPmWflGEG4E",
        "outputId": "d8d4f46f-3991-4370-b3d2-da3b1a9e0267"
      },
      "execution_count": 64,
      "outputs": [
        {
          "output_type": "stream",
          "name": "stdout",
          "text": [
            "<class 'pandas.core.frame.DataFrame'>\n",
            "RangeIndex: 25 entries, 0 to 24\n",
            "Data columns (total 2 columns):\n",
            " #   Column  Non-Null Count  Dtype  \n",
            "---  ------  --------------  -----  \n",
            " 0   Hours   25 non-null     float64\n",
            " 1   Scores  25 non-null     int64  \n",
            "dtypes: float64(1), int64(1)\n",
            "memory usage: 528.0 bytes\n"
          ]
        }
      ]
    },
    {
      "cell_type": "markdown",
      "source": [
        "**Cheking Null values**"
      ],
      "metadata": {
        "id": "jViuEf3QW-pP"
      }
    },
    {
      "cell_type": "code",
      "source": [
        "df.isna().sum()"
      ],
      "metadata": {
        "colab": {
          "base_uri": "https://localhost:8080/"
        },
        "id": "GkuG8U2sESPu",
        "outputId": "68da6bbf-869a-4ccb-ce7b-5a01b9e4f903"
      },
      "execution_count": 65,
      "outputs": [
        {
          "output_type": "execute_result",
          "data": {
            "text/plain": [
              "Hours     0\n",
              "Scores    0\n",
              "dtype: int64"
            ]
          },
          "metadata": {},
          "execution_count": 65
        }
      ]
    },
    {
      "cell_type": "markdown",
      "source": [
        "This dataset doesn't have any Null values"
      ],
      "metadata": {
        "id": "3MOHHGDIXCv9"
      }
    },
    {
      "cell_type": "markdown",
      "source": [
        "**scatter plot**"
      ],
      "metadata": {
        "id": "_zqSlDMEXJU9"
      }
    },
    {
      "cell_type": "code",
      "source": [
        "df.plot(x='Hours', y='Scores', style='o')\n",
        "plt.title('Hours vs Percentage')\n",
        "plt.xlabel('Hours Studied')\n",
        "plt.ylabel('Percentage Score')\n",
        "\n",
        "m, b = np.polyfit(df['Hours'], df['Scores'], 1)\n",
        "plt.plot(df['Hours'], m * df['Hours'] + b, color='red')\n",
        "\n",
        "plt.show()"
      ],
      "metadata": {
        "id": "h2QEVbU6LMT0",
        "colab": {
          "base_uri": "https://localhost:8080/",
          "height": 472
        },
        "outputId": "a97d1f58-bdd7-43f1-d8d7-db69d214fe78"
      },
      "execution_count": 66,
      "outputs": [
        {
          "output_type": "display_data",
          "data": {
            "text/plain": [
              "<Figure size 640x480 with 1 Axes>"
            ],
            "image/png": "[encoded data removed]"
          },
          "metadata": {}
        }
      ]
    },
    {
      "cell_type": "markdown",
      "source": [
        "\n",
        "\n",
        "* Created a scatter plot with linear line to see the distribution of the data\n",
        "*  polyfit() is used to calculate the coefficients of the linear regression line. It fits a polynomial of degree 1\n",
        "\n"
      ],
      "metadata": {
        "id": "iJRYL6HnXkfT"
      }
    },
    {
      "cell_type": "markdown",
      "source": [
        "**Spliting data into train and test**"
      ],
      "metadata": {
        "id": "MCG5sdZkYOdh"
      }
    },
    {
      "cell_type": "code",
      "source": [
        "X = df.iloc[:, :-1].values  \n",
        "y = df.iloc[:, 1].values"
      ],
      "metadata": {
        "id": "O6th5982FzL8"
      },
      "execution_count": 67,
      "outputs": []
    },
    {
      "cell_type": "code",
      "source": [
        "X"
      ],
      "metadata": {
        "colab": {
          "base_uri": "https://localhost:8080/"
        },
        "id": "JeCUff3SNQQt",
        "outputId": "edcbd130-09ca-4364-b6b1-6b0e92f96e5d"
      },
      "execution_count": 68,
      "outputs": [
        {
          "output_type": "execute_result",
          "data": {
            "text/plain": [
              "array([[2.5],\n",
              "       [5.1],\n",
              "       [3.2],\n",
              "       [8.5],\n",
              "       [3.5],\n",
              "       [1.5],\n",
              "       [9.2],\n",
              "       [5.5],\n",
              "       [8.3],\n",
              "       [2.7],\n",
              "       [7.7],\n",
              "       [5.9],\n",
              "       [4.5],\n",
              "       [3.3],\n",
              "       [1.1],\n",
              "       [8.9],\n",
              "       [2.5],\n",
              "       [1.9],\n",
              "       [6.1],\n",
              "       [7.4],\n",
              "       [2.7],\n",
              "       [4.8],\n",
              "       [3.8],\n",
              "       [6.9],\n",
              "       [7.8]])"
            ]
          },
          "metadata": {},
          "execution_count": 68
        }
      ]
    },
    {
      "cell_type": "code",
      "source": [
        "y"
      ],
      "metadata": {
        "colab": {
          "base_uri": "https://localhost:8080/"
        },
        "id": "3C1U4ccPNRRr",
        "outputId": "38535e61-8d0c-4761-d1e0-97463836d60c"
      },
      "execution_count": 69,
      "outputs": [
        {
          "output_type": "execute_result",
          "data": {
            "text/plain": [
              "array([21, 47, 27, 75, 30, 20, 88, 60, 81, 25, 85, 62, 41, 42, 17, 95, 30,\n",
              "       24, 67, 69, 30, 54, 35, 76, 86])"
            ]
          },
          "metadata": {},
          "execution_count": 69
        }
      ]
    },
    {
      "cell_type": "code",
      "source": [
        "from sklearn.model_selection import train_test_split\n",
        "X_train,X_test,y_train,y_test=train_test_split(X,y,test_size=0.30,random_state=1)"
      ],
      "metadata": {
        "id": "wGwm8Dh3Gttv"
      },
      "execution_count": 70,
      "outputs": []
    },
    {
      "cell_type": "code",
      "source": [
        "from sklearn.linear_model import LinearRegression  "
      ],
      "metadata": {
        "id": "0lcJX52eH4Fo"
      },
      "execution_count": 71,
      "outputs": []
    },
    {
      "cell_type": "markdown",
      "source": [
        "**Model Building**"
      ],
      "metadata": {
        "id": "Mz_zckDaYbnR"
      }
    },
    {
      "cell_type": "code",
      "source": [
        "model=LinearRegression()\n",
        "model.fit(X_train,y_train)"
      ],
      "metadata": {
        "colab": {
          "base_uri": "https://localhost:8080/",
          "height": 75
        },
        "id": "oI8dMMDpKz8I",
        "outputId": "1614d794-e6e2-4a58-f618-30d5ce8da024"
      },
      "execution_count": 72,
      "outputs": [
        {
          "output_type": "execute_result",
          "data": {
            "text/plain": [
              "LinearRegression()"
            ],
            "text/html": [
              "<style>#sk-container-id-3 {color: black;background-color: white;}#sk-container-id-3 pre{padding: 0;}#sk-container-id-3 div.sk-toggleable {background-color: white;}#sk-container-id-3 label.sk-toggleable__label {cursor: pointer;display: block;width: 100%;margin-bottom: 0;padding: 0.3em;box-sizing: border-box;text-align: center;}#sk-container-id-3 label.sk-toggleable__label-arrow:before {content: \"▸\";float: left;margin-right: 0.25em;color: #696969;}#sk-container-id-3 label.sk-toggleable__label-arrow:hover:before {color: black;}#sk-container-id-3 div.sk-estimator:hover label.sk-toggleable__label-arrow:before {color: black;}#sk-container-id-3 div.sk-toggleable__content {max-height: 0;max-width: 0;overflow: hidden;text-align: left;background-color: #f0f8ff;}#sk-container-id-3 div.sk-toggleable__content pre {margin: 0.2em;color: black;border-radius: 0.25em;background-color: #f0f8ff;}#sk-container-id-3 input.sk-toggleable__control:checked~div.sk-toggleable__content {max-height: 200px;max-width: 100%;overflow: auto;}#sk-container-id-3 input.sk-toggleable__control:checked~label.sk-toggleable__label-arrow:before {content: \"▾\";}#sk-container-id-3 div.sk-estimator input.sk-toggleable__control:checked~label.sk-toggleable__label {background-color: #d4ebff;}#sk-container-id-3 div.sk-label input.sk-toggleable__control:checked~label.sk-toggleable__label {background-color: #d4ebff;}#sk-container-id-3 input.sk-hidden--visually {border: 0;clip: rect(1px 1px 1px 1px);clip: rect(1px, 1px, 1px, 1px);height: 1px;margin: -1px;overflow: hidden;padding: 0;position: absolute;width: 1px;}#sk-container-id-3 div.sk-estimator {font-family: monospace;background-color: #f0f8ff;border: 1px dotted black;border-radius: 0.25em;box-sizing: border-box;margin-bottom: 0.5em;}#sk-container-id-3 div.sk-estimator:hover {background-color: #d4ebff;}#sk-container-id-3 div.sk-parallel-item::after {content: \"\";width: 100%;border-bottom: 1px solid gray;flex-grow: 1;}#sk-container-id-3 div.sk-label:hover label.sk-toggleable__label {background-color: #d4ebff;}#sk-container-id-3 div.sk-serial::before {content: \"\";position: absolute;border-left: 1px solid gray;box-sizing: border-box;top: 0;bottom: 0;left: 50%;z-index: 0;}#sk-container-id-3 div.sk-serial {display: flex;flex-direction: column;align-items: center;background-color: white;padding-right: 0.2em;padding-left: 0.2em;position: relative;}#sk-container-id-3 div.sk-item {position: relative;z-index: 1;}#sk-container-id-3 div.sk-parallel {display: flex;align-items: stretch;justify-content: center;background-color: white;position: relative;}#sk-container-id-3 div.sk-item::before, #sk-container-id-3 div.sk-parallel-item::before {content: \"\";position: absolute;border-left: 1px solid gray;box-sizing: border-box;top: 0;bottom: 0;left: 50%;z-index: -1;}#sk-container-id-3 div.sk-parallel-item {display: flex;flex-direction: column;z-index: 1;position: relative;background-color: white;}#sk-container-id-3 div.sk-parallel-item:first-child::after {align-self: flex-end;width: 50%;}#sk-container-id-3 div.sk-parallel-item:last-child::after {align-self: flex-start;width: 50%;}#sk-container-id-3 div.sk-parallel-item:only-child::after {width: 0;}#sk-container-id-3 div.sk-dashed-wrapped {border: 1px dashed gray;margin: 0 0.4em 0.5em 0.4em;box-sizing: border-box;padding-bottom: 0.4em;background-color: white;}#sk-container-id-3 div.sk-label label {font-family: monospace;font-weight: bold;display: inline-block;line-height: 1.2em;}#sk-container-id-3 div.sk-label-container {text-align: center;}#sk-container-id-3 div.sk-container {/* jupyter's `normalize.less` sets `[hidden] { display: none; }` but bootstrap.min.css set `[hidden] { display: none !important; }` so we also need the `!important` here to be able to override the default hidden behavior on the sphinx rendered scikit-learn.org. See: https://github.com/scikit-learn/scikit-learn/issues/21755 */display: inline-block !important;position: relative;}#sk-container-id-3 div.sk-text-repr-fallback {display: none;}</style><div id=\"sk-container-id-3\" class=\"sk-top-container\"><div class=\"sk-text-repr-fallback\"><pre>LinearRegression()</pre><b>In a Jupyter environment, please rerun this cell to show the HTML representation or trust the notebook. <br />On GitHub, the HTML representation is unable to render, please try loading this page with nbviewer.org.</b></div><div class=\"sk-container\" hidden><div class=\"sk-item\"><div class=\"sk-estimator sk-toggleable\"><input class=\"sk-toggleable__control sk-hidden--visually\" id=\"sk-estimator-id-3\" type=\"checkbox\" checked><label for=\"sk-estimator-id-3\" class=\"sk-toggleable__label sk-toggleable__label-arrow\">LinearRegression</label><div class=\"sk-toggleable__content\"><pre>LinearRegression()</pre></div></div></div></div></div>"
            ]
          },
          "metadata": {},
          "execution_count": 72
        }
      ]
    },
    {
      "cell_type": "markdown",
      "source": [
        "As this data is linearly separable built an Linear Regression model"
      ],
      "metadata": {
        "id": "om3aSz4VY66m"
      }
    },
    {
      "cell_type": "code",
      "source": [
        "y_pred_train=model.predict(X_train)\n",
        "y_pred_test=model.predict(X_test)"
      ],
      "metadata": {
        "id": "ODQ81F4_MpCh"
      },
      "execution_count": 73,
      "outputs": []
    },
    {
      "cell_type": "code",
      "source": [
        "from sklearn.metrics import r2_score,mean_squared_error"
      ],
      "metadata": {
        "id": "0D9gIpSpNKxs"
      },
      "execution_count": 74,
      "outputs": []
    },
    {
      "cell_type": "code",
      "source": [
        "def model_performance(y_actual,y_pred):\n",
        "  r2=r2_score(y_actual,y_pred)\n",
        "  RMSE=np.sqrt(mean_squared_error(y_actual,y_pred))\n",
        "  print(\"R2 score:{}|RMSE: {}\".format(round(r2,2),round(RMSE,2)))"
      ],
      "metadata": {
        "id": "nqfl9JPHNLlz"
      },
      "execution_count": 75,
      "outputs": []
    },
    {
      "cell_type": "code",
      "source": [
        "print(\"Train Performance\")\n",
        "model_performance(y_train,y_pred_train)\n",
        "print(\"Test Performance\")\n",
        "model_performance(y_test,y_pred_test)"
      ],
      "metadata": {
        "colab": {
          "base_uri": "https://localhost:8080/"
        },
        "id": "l4h6AmMbNNST",
        "outputId": "07e954be-0e14-4a92-9337-68c33db981d3"
      },
      "execution_count": 76,
      "outputs": [
        {
          "output_type": "stream",
          "name": "stdout",
          "text": [
            "Train Performance\n",
            "R2 score:0.97|RMSE: 4.55\n",
            "Test Performance\n",
            "R2 score:0.89|RMSE: 7.49\n"
          ]
        }
      ]
    },
    {
      "cell_type": "markdown",
      "source": [
        "Performance of train and test data"
      ],
      "metadata": {
        "id": "t5ryIiLLZEde"
      }
    },
    {
      "cell_type": "markdown",
      "source": [
        "**Predicitions**"
      ],
      "metadata": {
        "id": "puw4RXIbYhO_"
      }
    },
    {
      "cell_type": "code",
      "source": [
        "print(X_test) \n",
        "y_pred = model.predict(X_test)"
      ],
      "metadata": {
        "colab": {
          "base_uri": "https://localhost:8080/"
        },
        "id": "sJCbK9-_PXtt",
        "outputId": "ce761018-152a-476e-f52d-754ee9c72501"
      },
      "execution_count": 77,
      "outputs": [
        {
          "output_type": "stream",
          "name": "stdout",
          "text": [
            "[[1.1]\n",
            " [3.3]\n",
            " [1.9]\n",
            " [8.5]\n",
            " [4.8]\n",
            " [7.7]\n",
            " [6.1]\n",
            " [7.4]]\n"
          ]
        }
      ]
    },
    {
      "cell_type": "code",
      "source": [
        "df1 = pd.DataFrame({'Actual': y_test, 'Predicted': y_pred})  \n",
        "df1 "
      ],
      "metadata": {
        "colab": {
          "base_uri": "https://localhost:8080/",
          "height": 300
        },
        "id": "mZzxhYACN8pE",
        "outputId": "2964f619-2b7c-4206-affb-e2802ba7bfa7"
      },
      "execution_count": 78,
      "outputs": [
        {
          "output_type": "execute_result",
          "data": {
            "text/plain": [
              "   Actual  Predicted\n",
              "0      17   9.939530\n",
              "1      42  32.843201\n",
              "2      24  18.268138\n",
              "3      75  86.979152\n",
              "4      54  48.459341\n",
              "5      85  78.650544\n",
              "6      67  61.993329\n",
              "7      69  75.527316"
            ],
            "text/html": [
              "\n",
              "  <div id=\"df-d48b6241-4154-46de-a752-9b5dc95f96c4\">\n",
              "    <div class=\"colab-df-container\">\n",
              "      <div>\n",
              "<style scoped>\n",
              "    .dataframe tbody tr th:only-of-type {\n",
              "        vertical-align: middle;\n",
              "    }\n",
              "\n",
              "    .dataframe tbody tr th {\n",
              "        vertical-align: top;\n",
              "    }\n",
              "\n",
              "    .dataframe thead th {\n",
              "        text-align: right;\n",
              "    }\n",
              "</style>\n",
              "<table border=\"1\" class=\"dataframe\">\n",
              "  <thead>\n",
              "    <tr style=\"text-align: right;\">\n",
              "      <th></th>\n",
              "      <th>Actual</th>\n",
              "      <th>Predicted</th>\n",
              "    </tr>\n",
              "  </thead>\n",
              "  <tbody>\n",
              "    <tr>\n",
              "      <th>0</th>\n",
              "      <td>17</td>\n",
              "      <td>9.939530</td>\n",
              "    </tr>\n",
              "    <tr>\n",
              "      <th>1</th>\n",
              "      <td>42</td>\n",
              "      <td>32.843201</td>\n",
              "    </tr>\n",
              "    <tr>\n",
              "      <th>2</th>\n",
              "      <td>24</td>\n",
              "      <td>18.268138</td>\n",
              "    </tr>\n",
              "    <tr>\n",
              "      <th>3</th>\n",
              "      <td>75</td>\n",
              "      <td>86.979152</td>\n",
              "    </tr>\n",
              "    <tr>\n",
              "      <th>4</th>\n",
              "      <td>54</td>\n",
              "      <td>48.459341</td>\n",
              "    </tr>\n",
              "    <tr>\n",
              "      <th>5</th>\n",
              "      <td>85</td>\n",
              "      <td>78.650544</td>\n",
              "    </tr>\n",
              "    <tr>\n",
              "      <th>6</th>\n",
              "      <td>67</td>\n",
              "      <td>61.993329</td>\n",
              "    </tr>\n",
              "    <tr>\n",
              "      <th>7</th>\n",
              "      <td>69</td>\n",
              "      <td>75.527316</td>\n",
              "    </tr>\n",
              "  </tbody>\n",
              "</table>\n",
              "</div>\n",
              "      <button class=\"colab-df-convert\" onclick=\"convertToInteractive('df-d48b6241-4154-46de-a752-9b5dc95f96c4')\"\n",
              "              title=\"Convert this dataframe to an interactive table.\"\n",
              "              style=\"display:none;\">\n",
              "        \n",
              "  <svg xmlns=\"http://www.w3.org/2000/svg\" height=\"24px\"viewBox=\"0 0 24 24\"\n",
              "       width=\"24px\">\n",
              "    <path d=\"M0 0h24v24H0V0z\" fill=\"none\"/>\n",
              "    <path d=\"M18.56 5.44l.94 2.06.94-2.06 2.06-.94-2.06-.94-.94-2.06-.94 2.06-2.06.94zm-11 1L8.5 8.5l.94-2.06 2.06-.94-2.06-.94L8.5 2.5l-.94 2.06-2.06.94zm10 10l.94 2.06.94-2.06 2.06-.94-2.06-.94-.94-2.06-.94 2.06-2.06.94z\"/><path d=\"M17.41 7.96l-1.37-1.37c-.4-.4-.92-.59-1.43-.59-.52 0-1.04.2-1.43.59L10.3 9.45l-7.72 7.72c-.78.78-.78 2.05 0 2.83L4 21.41c.39.39.9.59 1.41.59.51 0 1.02-.2 1.41-.59l7.78-7.78 2.81-2.81c.8-.78.8-2.07 0-2.86zM5.41 20L4 18.59l7.72-7.72 1.47 1.35L5.41 20z\"/>\n",
              "  </svg>\n",
              "      </button>\n",
              "      \n",
              "  <style>\n",
              "    .colab-df-container {\n",
              "      display:flex;\n",
              "      flex-wrap:wrap;\n",
              "      gap: 12px;\n",
              "    }\n",
              "\n",
              "    .colab-df-convert {\n",
              "      background-color: #E8F0FE;\n",
              "      border: none;\n",
              "      border-radius: 50%;\n",
              "      cursor: pointer;\n",
              "      display: none;\n",
              "      fill: #1967D2;\n",
              "      height: 32px;\n",
              "      padding: 0 0 0 0;\n",
              "      width: 32px;\n",
              "    }\n",
              "\n",
              "    .colab-df-convert:hover {\n",
              "      background-color: #E2EBFA;\n",
              "      box-shadow: 0px 1px 2px rgba(60, 64, 67, 0.3), 0px 1px 3px 1px rgba(60, 64, 67, 0.15);\n",
              "      fill: #174EA6;\n",
              "    }\n",
              "\n",
              "    [theme=dark] .colab-df-convert {\n",
              "      background-color: #3B4455;\n",
              "      fill: #D2E3FC;\n",
              "    }\n",
              "\n",
              "    [theme=dark] .colab-df-convert:hover {\n",
              "      background-color: #434B5C;\n",
              "      box-shadow: 0px 1px 3px 1px rgba(0, 0, 0, 0.15);\n",
              "      filter: drop-shadow(0px 1px 2px rgba(0, 0, 0, 0.3));\n",
              "      fill: #FFFFFF;\n",
              "    }\n",
              "  </style>\n",
              "\n",
              "      <script>\n",
              "        const buttonEl =\n",
              "          document.querySelector('#df-d48b6241-4154-46de-a752-9b5dc95f96c4 button.colab-df-convert');\n",
              "        buttonEl.style.display =\n",
              "          google.colab.kernel.accessAllowed ? 'block' : 'none';\n",
              "\n",
              "        async function convertToInteractive(key) {\n",
              "          const element = document.querySelector('#df-d48b6241-4154-46de-a752-9b5dc95f96c4');\n",
              "          const dataTable =\n",
              "            await google.colab.kernel.invokeFunction('convertToInteractive',\n",
              "                                                     [key], {});\n",
              "          if (!dataTable) return;\n",
              "\n",
              "          const docLinkHtml = 'Like what you see? Visit the ' +\n",
              "            '<a target=\"_blank\" href=https://colab.research.google.com/notebooks/data_table.ipynb>data table notebook</a>'\n",
              "            + ' to learn more about interactive tables.';\n",
              "          element.innerHTML = '';\n",
              "          dataTable['output_type'] = 'display_data';\n",
              "          await google.colab.output.renderOutput(dataTable, element);\n",
              "          const docLink = document.createElement('div');\n",
              "          docLink.innerHTML = docLinkHtml;\n",
              "          element.appendChild(docLink);\n",
              "        }\n",
              "      </script>\n",
              "    </div>\n",
              "  </div>\n",
              "  "
            ]
          },
          "metadata": {},
          "execution_count": 78
        }
      ]
    },
    {
      "cell_type": "code",
      "source": [],
      "metadata": {
        "id": "qn5vlI4EPPpY"
      },
      "execution_count": 78,
      "outputs": []
    }
  ]
}